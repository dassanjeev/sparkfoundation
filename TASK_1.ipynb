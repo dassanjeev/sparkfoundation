{
  "nbformat": 4,
  "nbformat_minor": 0,
  "metadata": {
    "colab": {
      "name": "TASK 1.ipynb",
      "provenance": [],
      "collapsed_sections": [],
      "authorship_tag": "ABX9TyNkcRvqvb9vRrIXOn0y1Rcj"
    },
    "kernelspec": {
      "name": "python3",
      "display_name": "Python 3"
    }
  },
  "cells": [
    {
      "cell_type": "markdown",
      "metadata": {
        "id": "p8XyMj0mtZJs"
      },
      "source": [
        "#**Sanjeev Das**\n",
        "\n",
        "---\n",
        "\n",
        "In this we will be estimating percentage a student can score if  they study for particular number of hours.\n",
        "\n",
        "We will be using linearRegression model of scikit-learn "
      ]
    },
    {
      "cell_type": "code",
      "metadata": {
        "id": "iUMPizHQoes7"
      },
      "source": [
        "#packages for datamanipulation\n",
        "import numpy as np\n",
        "import pandas as pd\n",
        "\n",
        "#ploting library\n",
        "import matplotlib.pyplot as plt\n",
        "#library to make graph look better\n",
        "import seaborn as sns\n",
        "\n",
        "#magical line only for notebook \n",
        "%matplotlib inline"
      ],
      "execution_count": null,
      "outputs": []
    },
    {
      "cell_type": "code",
      "metadata": {
        "id": "8dWGRZSvpK53",
        "colab": {
          "base_uri": "https://localhost:8080/"
        },
        "outputId": "fe5d1b73-1d7a-4e97-9e4a-7231a0efd207"
      },
      "source": [
        "#reading data from link\n",
        "url=\"http://bit.ly/w-data\"\n",
        "\n",
        "#using panda to read csv file \n",
        "data=pd.read_csv(url)\n",
        "print(\"Data has been imported ... sanity check\")"
      ],
      "execution_count": null,
      "outputs": [
        {
          "output_type": "stream",
          "text": [
            "Data has been imported ... sanity check\n"
          ],
          "name": "stdout"
        }
      ]
    },
    {
      "cell_type": "markdown",
      "metadata": {
        "id": "ZNoC8AE1u_QE"
      },
      "source": [
        "#**Data Exploration** \n",
        "---\n",
        "Data exploration is a very important step to understand the data\n",
        "\n",
        "we can use various function and plotting method to understand it"
      ]
    },
    {
      "cell_type": "code",
      "metadata": {
        "id": "YU7FV_GMu4pj",
        "colab": {
          "base_uri": "https://localhost:8080/",
          "height": 204
        },
        "outputId": "84eff9d8-6e59-40ab-b176-e6d8e14d774a"
      },
      "source": [
        "#checking data first-five rows\n",
        "data.head(5)\n"
      ],
      "execution_count": null,
      "outputs": [
        {
          "output_type": "execute_result",
          "data": {
            "text/html": [
              "<div>\n",
              "<style scoped>\n",
              "    .dataframe tbody tr th:only-of-type {\n",
              "        vertical-align: middle;\n",
              "    }\n",
              "\n",
              "    .dataframe tbody tr th {\n",
              "        vertical-align: top;\n",
              "    }\n",
              "\n",
              "    .dataframe thead th {\n",
              "        text-align: right;\n",
              "    }\n",
              "</style>\n",
              "<table border=\"1\" class=\"dataframe\">\n",
              "  <thead>\n",
              "    <tr style=\"text-align: right;\">\n",
              "      <th></th>\n",
              "      <th>Hours</th>\n",
              "      <th>Scores</th>\n",
              "    </tr>\n",
              "  </thead>\n",
              "  <tbody>\n",
              "    <tr>\n",
              "      <th>0</th>\n",
              "      <td>2.5</td>\n",
              "      <td>21</td>\n",
              "    </tr>\n",
              "    <tr>\n",
              "      <th>1</th>\n",
              "      <td>5.1</td>\n",
              "      <td>47</td>\n",
              "    </tr>\n",
              "    <tr>\n",
              "      <th>2</th>\n",
              "      <td>3.2</td>\n",
              "      <td>27</td>\n",
              "    </tr>\n",
              "    <tr>\n",
              "      <th>3</th>\n",
              "      <td>8.5</td>\n",
              "      <td>75</td>\n",
              "    </tr>\n",
              "    <tr>\n",
              "      <th>4</th>\n",
              "      <td>3.5</td>\n",
              "      <td>30</td>\n",
              "    </tr>\n",
              "  </tbody>\n",
              "</table>\n",
              "</div>"
            ],
            "text/plain": [
              "   Hours  Scores\n",
              "0    2.5      21\n",
              "1    5.1      47\n",
              "2    3.2      27\n",
              "3    8.5      75\n",
              "4    3.5      30"
            ]
          },
          "metadata": {
            "tags": []
          },
          "execution_count": 78
        }
      ]
    },
    {
      "cell_type": "code",
      "metadata": {
        "id": "0mqsZ9cWrAWh",
        "colab": {
          "base_uri": "https://localhost:8080/"
        },
        "outputId": "742532a2-00d1-4135-e149-d633256e7020"
      },
      "source": [
        "#Data Exploration\n",
        "#description about data only for numerical columns\n",
        "print(\"DATA DESCRIBTION\")\n",
        "print(data.describe())"
      ],
      "execution_count": null,
      "outputs": [
        {
          "output_type": "stream",
          "text": [
            "DATA DESCRIBTION\n",
            "           Hours     Scores\n",
            "count  25.000000  25.000000\n",
            "mean    5.012000  51.480000\n",
            "std     2.525094  25.286887\n",
            "min     1.100000  17.000000\n",
            "25%     2.700000  30.000000\n",
            "50%     4.800000  47.000000\n",
            "75%     7.400000  75.000000\n",
            "max     9.200000  95.000000\n"
          ],
          "name": "stdout"
        }
      ]
    },
    {
      "cell_type": "code",
      "metadata": {
        "id": "Ith3-K2SrXJj",
        "colab": {
          "base_uri": "https://localhost:8080/"
        },
        "outputId": "73affd50-82ab-4c8f-a5cf-c5cfd77a68c6"
      },
      "source": [
        "#Quick check for the detail of columns\n",
        "print(\"DATA INFO\")\n",
        "print(data.info())\n",
        "\n",
        "#to check the shape of the given data\n",
        "print(\"\\nDATA SHAPE is \",data.shape)"
      ],
      "execution_count": null,
      "outputs": [
        {
          "output_type": "stream",
          "text": [
            "DATA INFO\n",
            "<class 'pandas.core.frame.DataFrame'>\n",
            "RangeIndex: 25 entries, 0 to 24\n",
            "Data columns (total 2 columns):\n",
            " #   Column  Non-Null Count  Dtype  \n",
            "---  ------  --------------  -----  \n",
            " 0   Hours   25 non-null     float64\n",
            " 1   Scores  25 non-null     int64  \n",
            "dtypes: float64(1), int64(1)\n",
            "memory usage: 528.0 bytes\n",
            "None\n",
            "\n",
            "DATA SHAPE is  (25, 2)\n"
          ],
          "name": "stdout"
        }
      ]
    },
    {
      "cell_type": "markdown",
      "metadata": {
        "id": "6tzlhD5qw6lH"
      },
      "source": [
        "---\n",
        "###To Check does that data have any null or not"
      ]
    },
    {
      "cell_type": "code",
      "metadata": {
        "id": "oBofgFfRrmLF",
        "colab": {
          "base_uri": "https://localhost:8080/",
          "height": 266
        },
        "outputId": "7cddfe28-9ba9-439f-bdc5-17ac14eb0d1c"
      },
      "source": [
        "#To check if we have no null data\n",
        "sns.heatmap(data.isnull())\n",
        "plt.show()\n",
        "#if single color isn't there means there are null values\n",
        "#if yes you will have to process the data of remove the null rows or columns"
      ],
      "execution_count": null,
      "outputs": [
        {
          "output_type": "display_data",
          "data": {
            "image/png": "[encoded data removed]",
            "text/plain": [
              "<Figure size 432x288 with 2 Axes>"
            ]
          },
          "metadata": {
            "tags": [],
            "needs_background": "light"
          }
        }
      ]
    },
    {
      "cell_type": "markdown",
      "metadata": {
        "id": "aR2n84KjxDn3"
      },
      "source": [
        "---\n",
        "###Trying to plot the data and finding a trend between Hours and Scores "
      ]
    },
    {
      "cell_type": "code",
      "metadata": {
        "id": "4g3HAGTlr58M",
        "colab": {
          "base_uri": "https://localhost:8080/",
          "height": 441
        },
        "outputId": "f6889186-00c9-4767-a1ea-9fdb5a56b181"
      },
      "source": [
        "#style the background \n",
        "plt.style.use(\"seaborn-darkgrid\")\n",
        "#using seaborn to plot the data and check relationship between Hours and Scores\n",
        "sns.jointplot(x=\"Hours\",y=\"Scores\",data=data,color=(0.1, 0.2, 0.5),kind='reg')\n",
        "plt.show()"
      ],
      "execution_count": null,
      "outputs": [
        {
          "output_type": "display_data",
          "data": {
            "image/png": "[encoded data removed]",
            "text/plain": [
              "<Figure size 432x432 with 3 Axes>"
            ]
          },
          "metadata": {
            "tags": []
          }
        }
      ]
    },
    {
      "cell_type": "markdown",
      "metadata": {
        "id": "1My2t2Snyonf"
      },
      "source": [
        "###In the above Plot a linear relation can be seen \n",
        "\n",
        "\n",
        "---"
      ]
    },
    {
      "cell_type": "markdown",
      "metadata": {
        "id": "OVvK8iatvjmI"
      },
      "source": [
        "#**Data Prepocessing**\n",
        "---\n",
        "Making the data ready for training and spliting it into two groups \n",
        "\n",
        "Train Data and Test Data"
      ]
    },
    {
      "cell_type": "code",
      "metadata": {
        "id": "NUv7V69Pu0SN"
      },
      "source": [
        "#seperating target values and feature(s)(2d array) values\n",
        "X=data.iloc[:,:-1].values \n",
        "Y=data.iloc[:,1].values "
      ],
      "execution_count": null,
      "outputs": []
    },
    {
      "cell_type": "code",
      "metadata": {
        "id": "qoFUDBjA6eIR"
      },
      "source": [
        "#model to split the data in test and train data\n",
        "from sklearn.model_selection import train_test_split\n",
        "X_train, X_test, y_train, y_test = train_test_split(X,Y,test_size=0.2, random_state=101) \n",
        "#X_train, X_test, y_train, y_test = train_test_split(X,Y,test_size=0.2, random_state=0) "
      ],
      "execution_count": null,
      "outputs": []
    },
    {
      "cell_type": "markdown",
      "metadata": {
        "id": "hB7u9-1bwIRs"
      },
      "source": [
        "#**Creating a model** \n",
        "---\n",
        "Creating a model and fitting the data to it\n",
        "and predicting values"
      ]
    },
    {
      "cell_type": "code",
      "metadata": {
        "id": "k9J5QC5jaGeY",
        "colab": {
          "base_uri": "https://localhost:8080/"
        },
        "outputId": "e7ae5682-3c61-4094-da43-98f2199221cf"
      },
      "source": [
        "from sklearn.linear_model import LinearRegression\n",
        "#initiating linear regression model\n",
        "model=LinearRegression()\n",
        "#fitting the data to to model\n",
        "model.fit(X_train,y_train)\n",
        "print(\"Model is trained\")"
      ],
      "execution_count": null,
      "outputs": [
        {
          "output_type": "stream",
          "text": [
            "Model is trained\n"
          ],
          "name": "stdout"
        }
      ]
    },
    {
      "cell_type": "markdown",
      "metadata": {
        "id": "WOoM90BJxljN"
      },
      "source": [
        "---\n",
        "###Predicting Value for the Test Data"
      ]
    },
    {
      "cell_type": "code",
      "metadata": {
        "id": "RHwVYnrqbobz",
        "colab": {
          "base_uri": "https://localhost:8080/"
        },
        "outputId": "c841112f-db6f-4ec4-fe4c-725cf3feb367"
      },
      "source": [
        "#Model is predicting against the test data\n",
        "pred_y=model.predict(X_test)\n",
        "pred_y"
      ],
      "execution_count": null,
      "outputs": [
        {
          "output_type": "execute_result",
          "data": {
            "text/plain": [
              "array([26.84539693, 77.45859361, 39.4986961 , 74.53860149, 56.04531809])"
            ]
          },
          "metadata": {
            "tags": []
          },
          "execution_count": 86
        }
      ]
    },
    {
      "cell_type": "markdown",
      "metadata": {
        "id": "I9bWZd1fxtWW"
      },
      "source": [
        "##**Comparing the Predicted Values and Actual Values**\n",
        "---\n",
        "###Graphically way of comparing"
      ]
    },
    {
      "cell_type": "code",
      "metadata": {
        "id": "h4h-zC7pHscM",
        "colab": {
          "base_uri": "https://localhost:8080/",
          "height": 262
        },
        "outputId": "1326ae91-f59c-43d8-8b2a-fdeac71c5afd"
      },
      "source": [
        "#graphical representation of predicted and actual value\n",
        "plt.figure(figsize=(7,4))\n",
        "plt.plot(X_test,pred_y,label=\"predicted\",color=\"orange\")\n",
        "plt.scatter(X_test,y_test,label=\"Actual\")\n",
        "plt.legend()\n",
        "plt.show()"
      ],
      "execution_count": null,
      "outputs": [
        {
          "output_type": "display_data",
          "data": {
            "image/png": "[encoded data removed]",
            "text/plain": [
              "<Figure size 504x288 with 1 Axes>"
            ]
          },
          "metadata": {
            "tags": []
          }
        }
      ]
    },
    {
      "cell_type": "markdown",
      "metadata": {
        "id": "cI7BTgLnx_Kq"
      },
      "source": [
        "---\n",
        "###Tabular way of comparing"
      ]
    },
    {
      "cell_type": "code",
      "metadata": {
        "id": "cHIHbyrIHzh0",
        "colab": {
          "base_uri": "https://localhost:8080/",
          "height": 204
        },
        "outputId": "a5eaf26b-f553-40a4-fe15-75edba5414c1"
      },
      "source": [
        "#Tabular representation of predicted and actual values\n",
        "pd.DataFrame({\"Actual Value\":y_test,\"Predicted Value\":pred_y})"
      ],
      "execution_count": null,
      "outputs": [
        {
          "output_type": "execute_result",
          "data": {
            "text/html": [
              "<div>\n",
              "<style scoped>\n",
              "    .dataframe tbody tr th:only-of-type {\n",
              "        vertical-align: middle;\n",
              "    }\n",
              "\n",
              "    .dataframe tbody tr th {\n",
              "        vertical-align: top;\n",
              "    }\n",
              "\n",
              "    .dataframe thead th {\n",
              "        text-align: right;\n",
              "    }\n",
              "</style>\n",
              "<table border=\"1\" class=\"dataframe\">\n",
              "  <thead>\n",
              "    <tr style=\"text-align: right;\">\n",
              "      <th></th>\n",
              "      <th>Actual Value</th>\n",
              "      <th>Predicted Value</th>\n",
              "    </tr>\n",
              "  </thead>\n",
              "  <tbody>\n",
              "    <tr>\n",
              "      <th>0</th>\n",
              "      <td>30</td>\n",
              "      <td>26.845397</td>\n",
              "    </tr>\n",
              "    <tr>\n",
              "      <th>1</th>\n",
              "      <td>85</td>\n",
              "      <td>77.458594</td>\n",
              "    </tr>\n",
              "    <tr>\n",
              "      <th>2</th>\n",
              "      <td>35</td>\n",
              "      <td>39.498696</td>\n",
              "    </tr>\n",
              "    <tr>\n",
              "      <th>3</th>\n",
              "      <td>69</td>\n",
              "      <td>74.538601</td>\n",
              "    </tr>\n",
              "    <tr>\n",
              "      <th>4</th>\n",
              "      <td>60</td>\n",
              "      <td>56.045318</td>\n",
              "    </tr>\n",
              "  </tbody>\n",
              "</table>\n",
              "</div>"
            ],
            "text/plain": [
              "   Actual Value  Predicted Value\n",
              "0            30        26.845397\n",
              "1            85        77.458594\n",
              "2            35        39.498696\n",
              "3            69        74.538601\n",
              "4            60        56.045318"
            ]
          },
          "metadata": {
            "tags": []
          },
          "execution_count": 88
        }
      ]
    },
    {
      "cell_type": "markdown",
      "metadata": {
        "id": "QjKZ6hpryJhB"
      },
      "source": [
        "---\n",
        "###Estimating Percentage for **9.25 hours**"
      ]
    },
    {
      "cell_type": "code",
      "metadata": {
        "id": "TQMaf3OTlOUP",
        "colab": {
          "base_uri": "https://localhost:8080/"
        },
        "outputId": "1ae5dc1a-beca-4d77-845f-25685cae2d55"
      },
      "source": [
        "#input requires 2D array\n",
        "hours=[[9.25]]\n",
        "#Center is use to make it look in the center\n",
        "print(\"PREDICTION FROM THE MODEL\".center(60))\n",
        "#model to predict the value and print it \n",
        "print(f\"If student studies for {hours[0][0]} then they are expcted to score {model.predict(hours)[0] :.3f} % \")\n",
        "\n",
        "#Note the predicted value may differ based on which data (random state of traintestsplit) is used to train the model\n",
        "#Change the random state and predict the same value"
      ],
      "execution_count": null,
      "outputs": [
        {
          "output_type": "stream",
          "text": [
            "                 PREDICTION FROM THE MODEL                  \n",
            "If student studies for 9.25 then they are expcted to score 92.545 % \n"
          ],
          "name": "stdout"
        }
      ]
    },
    {
      "cell_type": "markdown",
      "metadata": {
        "id": "I_JxeNpbzL5_"
      },
      "source": [
        "##Metrics to Check how your model has performed"
      ]
    },
    {
      "cell_type": "code",
      "metadata": {
        "id": "sFTT4ke2mQj0",
        "colab": {
          "base_uri": "https://localhost:8080/"
        },
        "outputId": "da75ce53-8603-42fe-fd60-2dc72dea92f4"
      },
      "source": [
        "#some matrix to check how our model is performed\n",
        "from sklearn.metrics import mean_absolute_error,mean_squared_error\n",
        "\n",
        "print(\"Mean Absolute Error \",mean_absolute_error(y_test,pred_y))\n",
        "\n",
        "#the value will be high cause it punishes the model to for smaller difference also\n",
        "print(\"Mean Squared Error \",mean_squared_error(y_test,pred_y))"
      ],
      "execution_count": null,
      "outputs": [
        {
          "output_type": "stream",
          "text": [
            "Mean Absolute Error  4.937597792467706\n",
            "Mean Squared Error  26.675642597052256\n"
          ],
          "name": "stdout"
        }
      ]
    }
  ]
}